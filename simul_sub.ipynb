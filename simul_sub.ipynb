{
 "cells": [
  {
   "cell_type": "code",
   "execution_count": null,
   "metadata": {},
   "outputs": [],
   "source": [
    "import json\n",
    "import re"
   ]
  },
  {
   "cell_type": "code",
   "execution_count": null,
   "metadata": {},
   "outputs": [],
   "source": [
    "with open(r\"replacement_dict.JSON\") as d:\n",
    "    split_dict = json.load(d)\n",
    "\n",
    "def SimulSub (string_):\n",
    "    \"\"\"Single pass regex substitution method based off of dictionary\n",
    "    :param string_: Sentence to search for matches\n",
    "    :type string_: Str\n",
    "    :returns: String with substitutions\n",
    "    \"\"\"\n",
    "    if len(replacement_dict) == 0:\n",
    "        return string_\n",
    "    def repl_(regex_):\n",
    "        match_ = regex_.group()\n",
    "        for x in (sorted(replacement_dict.keys(), key=lambda x: len(x))):\n",
    "            if (re.search( x , match_ ) != None):\n",
    "                return replacement_dict[x] \n",
    "        return match_\n",
    "    pattern = ''\n",
    "    for i in sorted(replacement_dict.keys(), key=lambda x: len(x)):\n",
    "        if i[0] == '(' or i[0] == '[':\n",
    "            pattern += (i + '|')\n",
    "        else:\n",
    "            pattern += ('(' + i + r')\\b|')\n",
    "    pattern = pattern[0:-1]\n",
    "    return re.sub(pattern, repl_ , string_ )"
   ]
  }
 ],
 "metadata": {
  "kernelspec": {
   "display_name": "Python 3",
   "language": "python",
   "name": "python3"
  },
  "language_info": {
   "codemirror_mode": {
    "name": "ipython",
    "version": 3
   },
   "file_extension": ".py",
   "mimetype": "text/x-python",
   "name": "python",
   "nbconvert_exporter": "python",
   "pygments_lexer": "ipython3",
   "version": "3.7.7"
  }
 },
 "nbformat": 4,
 "nbformat_minor": 4
}
