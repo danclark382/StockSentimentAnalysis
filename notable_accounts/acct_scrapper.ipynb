{
 "cells": [
  {
   "cell_type": "code",
   "execution_count": 1,
   "metadata": {},
   "outputs": [],
   "source": [
    "import requests\n",
    "\n",
    "from bs4 import BeautifulSoup"
   ]
  },
  {
   "cell_type": "code",
   "execution_count": 2,
   "metadata": {},
   "outputs": [],
   "source": [
    "request = requests.get(\"https://www.businessinsider.com/people-to-follow-on-twitter-from-finance-2017-6\")"
   ]
  },
  {
   "cell_type": "code",
   "execution_count": 3,
   "metadata": {},
   "outputs": [],
   "source": [
    "soup = BeautifulSoup(request.text)"
   ]
  },
  {
   "cell_type": "code",
   "execution_count": 4,
   "metadata": {},
   "outputs": [],
   "source": [
    "acct = []\n",
    "for i in soup.find_all('div', class_='slide'):\n",
    "    name = i.h2.get_text()\n",
    "    handle, occupation, why = '', '', ''\n",
    "    for x in i.find_all('p'):\n",
    "        t = x.get_text()\n",
    "        if \"Twitter:\" in t or 'Handle:' in t:\n",
    "            handle = t.split()[-1]\n",
    "        elif 'Occupation:' in t:\n",
    "            occupation = t\n",
    "        elif 'Why:' in t:\n",
    "            why = t\n",
    "    if name:\n",
    "        acct.append([name, handle, occupation, why])\n",
    "\n",
    "    "
   ]
  },
  {
   "cell_type": "code",
   "execution_count": 9,
   "metadata": {},
   "outputs": [],
   "source": [
    "with open('notable_accts.txt', 'w') as f:\n",
    "    f.writelines('\\t'.join([\"Name\", \"Handle\", \"Occupation\", \"Reason\"]) + \"\\n\")\n",
    "    for i in acct:\n",
    "        f.writelines('\\t'.join(i) + \"\\n\")"
   ]
  },
  {
   "cell_type": "code",
   "execution_count": null,
   "metadata": {},
   "outputs": [],
   "source": []
  }
 ],
 "metadata": {
  "kernelspec": {
   "display_name": "Python 3",
   "language": "python",
   "name": "python3"
  },
  "language_info": {
   "codemirror_mode": {
    "name": "ipython",
    "version": 3
   },
   "file_extension": ".py",
   "mimetype": "text/x-python",
   "name": "python",
   "nbconvert_exporter": "python",
   "pygments_lexer": "ipython3",
   "version": "3.7.7"
  }
 },
 "nbformat": 4,
 "nbformat_minor": 4
}
